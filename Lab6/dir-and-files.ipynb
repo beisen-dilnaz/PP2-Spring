{
 "cells": [
  {
   "cell_type": "code",
   "execution_count": 7,
   "metadata": {},
   "outputs": [
    {
     "name": "stdout",
     "output_type": "stream",
     "text": [
      "Directories: []\n",
      "Files: ['builtin.ipynb', 'dir-and-files.ipynb']\n"
     ]
    }
   ],
   "source": [
    "import os\n",
    "\n",
    "def list_contents(path):\n",
    "    files = [f for f in os.listdir(path) if os.path.isfile(os.path.join(path, f))]\n",
    "    directories = [d for d in os.listdir(path) if os.path.isdir(os.path.join(path, d))]\n",
    "    return directories, files\n",
    "\n",
    "path = \".\"\n",
    "directories, files = list_contents(path)\n",
    "print(\"Directories:\", directories)\n",
    "print(\"Files:\", files)"
   ]
  },
  {
   "cell_type": "code",
   "execution_count": 5,
   "metadata": {},
   "outputs": [
    {
     "name": "stdout",
     "output_type": "stream",
     "text": [
      "path doesn't exist\n"
     ]
    }
   ],
   "source": [
    "import os\n",
    "def check_access(path):\n",
    "    if not os.path.exists(path):\n",
    "        print(\"path doesn't exist\")\n",
    "        return \n",
    "    else:\n",
    "        print('path does exist')\n",
    "        if os.access(path, os.R_OK):\n",
    "            print(\"readable\")\n",
    "        else:\n",
    "            print(\"don't readable\")\n",
    "        if os.access(path, os.W_OK):\n",
    "            print(\"writable\")\n",
    "        else:\n",
    "            print(\"don't writable\")\n",
    "        if os.access(path, os.X_OK):\n",
    "            print(\"executable\")\n",
    "        else:\n",
    "            print(\"don't executable\")\n",
    "\n",
    "if __name__ == \"__main__\":\n",
    "    path_to_check = r\"C:/Users/dilnazbeisenova/Documents\"\n",
    "    \n",
    "check_access(path_to_check)"
   ]
  },
  {
   "cell_type": "code",
   "execution_count": 8,
   "metadata": {},
   "outputs": [
    {
     "name": "stdout",
     "output_type": "stream",
     "text": [
      "Name of file:  Documents\n",
      "name of directory:  /Users/dilnazbeisenova\n",
      "success\n"
     ]
    }
   ],
   "source": [
    "import os\n",
    "path= r\"/Users/dilnazbeisenova/Documents\"\n",
    "def checker(path):\n",
    "    if os.path.exists(path):\n",
    "        print(\"Name of file: \", os.path.basename(path))\n",
    "        print(\"name of directory: \", os.path.dirname(path))\n",
    "        return \"success\"\n",
    "    \n",
    "print(checker(path))"
   ]
  },
  {
   "cell_type": "code",
   "execution_count": 12,
   "metadata": {},
   "outputs": [
    {
     "name": "stdout",
     "output_type": "stream",
     "text": [
      "1\n"
     ]
    }
   ],
   "source": [
    "import os\n",
    "import string\n",
    "\n",
    "with open(\"sometext.txt\") as f:\n",
    "    data = f.read()  \n",
    "\n",
    "print(len(list(data.split(\"\\n\"))))\n",
    "f.close()"
   ]
  },
  {
   "cell_type": "code",
   "execution_count": 13,
   "metadata": {},
   "outputs": [],
   "source": [
    "def writesome(list_of_elements):\n",
    "    with open(\"sometext.txt\", '+a') as f:\n",
    "        text = \"\\n\"\n",
    "        for i in list_of_elements:\n",
    "            text+=str(i)+' '\n",
    "        f.write(text)\n",
    "        f.close()\n",
    "    \n",
    "writesome([12345, 56789, 90987654, \"dfghjkl\",\"efrgf\",34,34])"
   ]
  },
  {
   "cell_type": "code",
   "execution_count": 14,
   "metadata": {},
   "outputs": [],
   "source": [
    "import string\n",
    "\n",
    "def generate_files():\n",
    "    for letter in string.ascii_uppercase:\n",
    "        filename = letter + \".txt\"\n",
    "        with open(filename, 'w') as file:\n",
    "            file.write(\"hello world\")\n",
    "\n",
    "if __name__ == \"__main__\":\n",
    "    generate_files()"
   ]
  },
  {
   "cell_type": "code",
   "execution_count": 17,
   "metadata": {},
   "outputs": [
    {
     "data": {
      "text/plain": [
       "0"
      ]
     },
     "execution_count": 17,
     "metadata": {},
     "output_type": "execute_result"
    }
   ],
   "source": [
    "def copier():\n",
    "    string = str(input(\"Enter the name of file: \"))\n",
    "    with open(string) as file:\n",
    "        data = file.read()\n",
    "    file.close()\n",
    "    copy_path = \"\"\n",
    "    for i in range(len(string)):\n",
    "        if string[i]=='.':\n",
    "            copy_path+='_1'\n",
    "        copy_path+=string[i]\n",
    "    with open(copy_path, \"+w\") as file_copy:\n",
    "        file_copy.write(data)\n",
    "    file.close()\n",
    "    \n",
    "    return 0\n",
    "\n",
    "copier()"
   ]
  },
  {
   "cell_type": "code",
   "execution_count": 18,
   "metadata": {},
   "outputs": [
    {
     "name": "stdout",
     "output_type": "stream",
     "text": [
      "file file_path.txt delete\n"
     ]
    }
   ],
   "source": [
    "import os\n",
    "def delete_file(file_path):\n",
    "    if os.path.exists(file_path):\n",
    "        if os.access(file_path,os.W_OK):\n",
    "            try:\n",
    "                os.remove(file_path)\n",
    "                print(f\"file {file_path} delete\") \n",
    "            except Exception as e:\n",
    "                print(\"Error\")\n",
    "                \n",
    "                \n",
    "        else:\n",
    "            print(\"You do not have write access\")\n",
    "    else:\n",
    "        print(f\"File '{file_path}' does not exist.\")\n",
    "            \n",
    "        \n",
    "\n",
    "\n",
    "path_delete=str(input(\"path_delere_file:\"))\n",
    "\n",
    "delete_file(path_delete)"
   ]
  }
 ],
 "metadata": {
  "kernelspec": {
   "display_name": "Python 3",
   "language": "python",
   "name": "python3"
  },
  "language_info": {
   "codemirror_mode": {
    "name": "ipython",
    "version": 3
   },
   "file_extension": ".py",
   "mimetype": "text/x-python",
   "name": "python",
   "nbconvert_exporter": "python",
   "pygments_lexer": "ipython3",
   "version": "3.9.6"
  }
 },
 "nbformat": 4,
 "nbformat_minor": 2
}
