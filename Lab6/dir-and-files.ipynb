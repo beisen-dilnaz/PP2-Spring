{
 "cells": [
  {
   "cell_type": "code",
   "execution_count": 25,
   "metadata": {},
   "outputs": [
    {
     "name": "stdout",
     "output_type": "stream",
     "text": [
      "Directories: ['Lab1', 'Lab6', 'Lec5', 'Lab5', 'Lab2', 'Lab3', 'Lab4', 'githowto', 'L1']\n",
      "Files: ['.DS_Store', '11.ipynb', 'Lecture 1.pptx', 'Lecture 3.pptx', '1.ipynb', 'Programming Principles II syllabus.docx', 'Lecture 2.pptx', 'Lecture 4.pptx']\n",
      "All: ['Lab1', 'Lab6', 'Lec5', 'Lab5', 'Lab2', 'Lab3', 'Lab4', 'githowto', 'L1', '.DS_Store', '11.ipynb', 'Lecture 1.pptx', 'Lecture 3.pptx', '1.ipynb', 'Programming Principles II syllabus.docx', 'Lecture 2.pptx', 'Lecture 4.pptx']\n"
     ]
    }
   ],
   "source": [
    "import os\n",
    "\n",
    "def list_files_and_dirs(path):\n",
    "    try:\n",
    "        with os.scandir(path) as entries:\n",
    "            directories = [entry.name for entry in entries if entry.is_dir()]\n",
    "        \n",
    "        with os.scandir(path) as entries:\n",
    "            files = [entry.name for entry in entries if entry.is_file()]\n",
    "        \n",
    "        all_items = directories + files\n",
    "\n",
    "        print(\"Directories:\", directories)\n",
    "        print(\"Files:\", files)\n",
    "        print(\"All:\", all_items)\n",
    "\n",
    "    except FileNotFoundError:\n",
    "        print(\"The specified path does not exist.\")\n",
    "    except PermissionError:\n",
    "        print(\"Permission denied to access this path.\")\n",
    "\n",
    "path = \"/Users/dilnazbeisenova/Desktop/PP2/\"\n",
    "list_files_and_dirs(path)\n"
   ]
  },
  {
   "cell_type": "code",
   "execution_count": 26,
   "metadata": {},
   "outputs": [
    {
     "name": "stdout",
     "output_type": "stream",
     "text": [
      "Path exists\n",
      "Readable\n",
      "Writable\n",
      "Executable\n"
     ]
    }
   ],
   "source": [
    "import os\n",
    "\n",
    "def check_access(path):\n",
    "    if os.path.exists(path):\n",
    "        print(\"Path exists\")\n",
    "        print(\"Readable\" if os.access(path, os.R_OK) else \"Not readable\")\n",
    "        print(\"Writable\" if os.access(path, os.W_OK) else \"Not writable\")\n",
    "        print(\"Executable\" if os.access(path, os.X_OK) else \"Not executable\")\n",
    "    else:\n",
    "        print(\"Path does not exist\")\n",
    "\n",
    "path_to_check = \"/Users/dilnazbeisenova/Desktop/PP2/\"\n",
    "check_access(path_to_check)\n"
   ]
  },
  {
   "cell_type": "code",
   "execution_count": 27,
   "metadata": {},
   "outputs": [
    {
     "name": "stdout",
     "output_type": "stream",
     "text": [
      "Name of file:  \n",
      "name of directory:  /Users/dilnazbeisenova/Desktop/PP2\n",
      "success\n"
     ]
    }
   ],
   "source": [
    "import os\n",
    "path= r\"/Users/dilnazbeisenova/Desktop/PP2/\"\n",
    "def checker(path):\n",
    "    if os.path.exists(path):\n",
    "        print(\"Name of file: \", os.path.basename(path))\n",
    "        print(\"name of directory: \", os.path.dirname(path))\n",
    "        return \"success\"\n",
    "    \n",
    "print(checker(path))"
   ]
  },
  {
   "cell_type": "code",
   "execution_count": 12,
   "metadata": {},
   "outputs": [
    {
     "name": "stdout",
     "output_type": "stream",
     "text": [
      "1\n"
     ]
    }
   ],
   "source": [
    "import os\n",
    "import string\n",
    "\n",
    "with open(\"sometext.txt\") as f:\n",
    "    data = f.read()  \n",
    "\n",
    "print(len(list(data.split(\"\\n\"))))\n",
    "f.close()"
   ]
  },
  {
   "cell_type": "code",
   "execution_count": 19,
   "metadata": {},
   "outputs": [],
   "source": [
    "def writesome(list_of_elements):\n",
    "    with open(\"sometext.txt\", '+a') as f:\n",
    "        text = \"\\n\"\n",
    "        for i in list_of_elements:\n",
    "            text+=str(i)+' '\n",
    "        f.write(text)\n",
    "        f.close()\n",
    "    \n",
    "writesome([2025, 56789, 99994, \"kbtu\",\"pp2\",])"
   ]
  },
  {
   "cell_type": "code",
   "execution_count": 14,
   "metadata": {},
   "outputs": [],
   "source": [
    "import string\n",
    "\n",
    "def generate_files():\n",
    "    for letter in string.ascii_uppercase:\n",
    "        filename = letter + \".txt\"\n",
    "        with open(filename, 'w') as file:\n",
    "            file.write(\"hello world\")\n",
    "\n",
    "if __name__ == \"__main__\":\n",
    "    generate_files()"
   ]
  },
  {
   "cell_type": "code",
   "execution_count": 17,
   "metadata": {},
   "outputs": [
    {
     "data": {
      "text/plain": [
       "0"
      ]
     },
     "execution_count": 17,
     "metadata": {},
     "output_type": "execute_result"
    }
   ],
   "source": [
    "def copier():\n",
    "    string = str(input(\"Enter the name of file: \"))\n",
    "    with open(string) as file:\n",
    "        data = file.read()\n",
    "    file.close()\n",
    "    copy_path = \"\"\n",
    "    for i in range(len(string)):\n",
    "        if string[i]=='.':\n",
    "            copy_path+='_1'\n",
    "        copy_path+=string[i]\n",
    "    with open(copy_path, \"+w\") as file_copy:\n",
    "        file_copy.write(data)\n",
    "    file.close()\n",
    "    \n",
    "    return 0\n",
    "\n",
    "copier()"
   ]
  },
  {
   "cell_type": "code",
   "execution_count": 18,
   "metadata": {},
   "outputs": [
    {
     "name": "stdout",
     "output_type": "stream",
     "text": [
      "file file_path.txt delete\n"
     ]
    }
   ],
   "source": [
    "import os\n",
    "def delete_file(file_path):\n",
    "    if os.path.exists(file_path):\n",
    "        if os.access(file_path,os.W_OK):\n",
    "            try:\n",
    "                os.remove(file_path)\n",
    "                print(f\"file {file_path} delete\") \n",
    "            except Exception as e:\n",
    "                print(\"Error\")\n",
    "                \n",
    "                \n",
    "        else:\n",
    "            print(\"You do not have write access\")\n",
    "    else:\n",
    "        print(f\"File '{file_path}' does not exist.\")\n",
    "            \n",
    "path_delete=str(input(\"path_delere_file:\"))\n",
    "delete_file(path_delete)"
   ]
  }
 ],
 "metadata": {
  "kernelspec": {
   "display_name": "Python 3",
   "language": "python",
   "name": "python3"
  },
  "language_info": {
   "codemirror_mode": {
    "name": "ipython",
    "version": 3
   },
   "file_extension": ".py",
   "mimetype": "text/x-python",
   "name": "python",
   "nbconvert_exporter": "python",
   "pygments_lexer": "ipython3",
   "version": "3.9.6"
  }
 },
 "nbformat": 4,
 "nbformat_minor": 2
}
