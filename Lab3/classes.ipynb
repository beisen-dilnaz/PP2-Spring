{
 "cells": [
  {
   "cell_type": "code",
   "execution_count": 7,
   "metadata": {},
   "outputs": [],
   "source": [
    "class Step1:\n",
    "    string = \"\"\n",
    "\n",
    "    def getString(self):\n",
    "        self.string = input(\"Enter the text: \")\n",
    "\n",
    "    def printString(self):\n",
    "        print(self.string.upper())\n",
    "\n"
   ]
  },
  {
   "cell_type": "code",
   "execution_count": 4,
   "metadata": {},
   "outputs": [
    {
     "name": "stdout",
     "output_type": "stream",
     "text": [
      "25\n"
     ]
    }
   ],
   "source": [
    "class Shape:\n",
    "    def area(self):\n",
    "        return 0\n",
    "\n",
    "class Square(Shape):\n",
    "    def __init__(self, length):\n",
    "        self.length = length\n",
    "\n",
    "    def area(self):\n",
    "        return self.length * self.length\n",
    "    \n",
    "square = Square(5)\n",
    "print(square.area())"
   ]
  },
  {
   "cell_type": "code",
   "execution_count": 5,
   "metadata": {},
   "outputs": [
    {
     "name": "stdout",
     "output_type": "stream",
     "text": [
      "24\n"
     ]
    }
   ],
   "source": [
    "class Shape:\n",
    "    def area(self):\n",
    "        return 0\n",
    "\n",
    "class Rectangle(Shape):\n",
    "    def __init__(self, length, width):\n",
    "        self.length = length\n",
    "        self.width = width\n",
    "\n",
    "    def area(self):\n",
    "        return self.length * self.width\n",
    "\n",
    "rectangle = Rectangle(4, 6)\n",
    "print(rectangle.area())  \n"
   ]
  },
  {
   "cell_type": "code",
   "execution_count": 1,
   "metadata": {},
   "outputs": [
    {
     "name": "stdout",
     "output_type": "stream",
     "text": [
      "Coordinates: (3.0, 4.0)\n",
      "Coordinates: (6.0, 8.0)\n",
      "Distance between point1 and point2: 5.656854249492381\n"
     ]
    }
   ],
   "source": [
    "import math\n",
    "\n",
    "class Point:\n",
    "    def __init__(self, x, y):\n",
    "        self.x = x\n",
    "        self.y = y\n",
    "\n",
    "    def show(self):\n",
    "        print(f\"Coordinates: ({self.x}, {self.y})\")\n",
    "\n",
    "    def move(self, x1, y1):\n",
    "        self.x = x1\n",
    "        self.y = y1\n",
    "\n",
    "    def dist(self, point2):\n",
    "        dx = self.x - point2.x\n",
    "        dy = self.y - point2.y\n",
    "        return math.sqrt(dx**2 + dy**2)\n",
    "\n",
    "a = float(input(\"x for point1: \"))\n",
    "b = float(input(\"y for point1: \"))\n",
    "point1 = Point(a, b)\n",
    "point1.show()\n",
    "\n",
    "k = float(input(\"new x for point1: \"))\n",
    "p = float(input(\"new y for point1: \"))\n",
    "point1.move(k, p)\n",
    "point1.show()\n",
    "\n",
    "c = float(input(\"x for point2: \"))\n",
    "d = float(input(\"y for point2: \"))\n",
    "point2 = Point(c, d)\n",
    "\n",
    "distance = point1.dist(point2)\n",
    "print(f\"Distance between point1 and point2: {distance}\")\n"
   ]
  },
  {
   "cell_type": "code",
   "execution_count": 2,
   "metadata": {},
   "outputs": [
    {
     "name": "stdout",
     "output_type": "stream",
     "text": [
      "10000\n",
      "Dilnaz\n",
      "You deposited 1000 money.\n",
      "Your balance is 8000. You withdrew 3000.\n",
      "Your balance is 6000. You withdrew 2000.\n"
     ]
    }
   ],
   "source": [
    "class Bank:\n",
    "    def __init__(self, account, money):\n",
    "        self.money = money\n",
    "        self.account = account\n",
    "\n",
    "    def balance(self):\n",
    "        return self.money\n",
    "    \n",
    "    def get_owner(self):\n",
    "        return self.account\n",
    "    \n",
    "    def deposit(self, money):\n",
    "        self.money += money\n",
    "        return f\"You deposited {money} money.\"\n",
    "    \n",
    "    def withdraw(self, money):\n",
    "        if self.money - money < 0:\n",
    "            return \"Insufficient funds.\"\n",
    "        else:\n",
    "            self.money -= money\n",
    "            return f\"Your balance is {self.money}. You withdrew {money}.\"\n",
    "\n",
    "bank = Bank(\"Dilnaz\", 10000)\n",
    "\n",
    "print(bank.balance())  \n",
    "print(bank.get_owner())  \n",
    "print(bank.deposit(1000))  \n",
    "print(bank.withdraw(3000))  \n",
    "print(bank.withdraw(2000))  \n"
   ]
  },
  {
   "cell_type": "code",
   "execution_count": 3,
   "metadata": {},
   "outputs": [
    {
     "name": "stdout",
     "output_type": "stream",
     "text": [
      "[23, 7]\n"
     ]
    }
   ],
   "source": [
    "class Prime:\n",
    "    def __init__(self, numbers):\n",
    "        self.numbers = numbers\n",
    "\n",
    "    def is_prime(self, num):\n",
    "        if num < 2:\n",
    "            return False\n",
    "        for i in range(2, int(num**0.5) + 1):\n",
    "            if num % i == 0:\n",
    "                return False\n",
    "        return True\n",
    "\n",
    "    def filter_prime_numbers(self):\n",
    "        return list(filter(lambda x: self.is_prime(x), self.numbers))\n",
    "\n",
    "n = int(input(\"n: \"))\n",
    "mylist = []\n",
    "for i in range(n):\n",
    "    number = int(input(\"number: \"))\n",
    "    mylist.append(number)\n",
    "\n",
    "prime_filter = Prime(mylist)\n",
    "print(prime_filter.filter_prime_numbers())"
   ]
  }
 ],
 "metadata": {
  "kernelspec": {
   "display_name": "Python 3",
   "language": "python",
   "name": "python3"
  },
  "language_info": {
   "codemirror_mode": {
    "name": "ipython",
    "version": 3
   },
   "file_extension": ".py",
   "mimetype": "text/x-python",
   "name": "python",
   "nbconvert_exporter": "python",
   "pygments_lexer": "ipython3",
   "version": "3.9.6"
  }
 },
 "nbformat": 4,
 "nbformat_minor": 2
}
