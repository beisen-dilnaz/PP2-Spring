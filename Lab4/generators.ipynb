{
 "cells": [
  {
   "cell_type": "code",
   "execution_count": 3,
   "metadata": {},
   "outputs": [
    {
     "name": "stdout",
     "output_type": "stream",
     "text": [
      "[0, 1, 4, 9, 16, 25]\n"
     ]
    }
   ],
   "source": [
    "def square_list(N):\n",
    "    result = []\n",
    "    for i in range(N + 1):\n",
    "        result.append(i ** 2)\n",
    "    return result\n",
    "\n",
    "N = int(input(\"Enter N: \"))\n",
    "print(square_list(N))"
   ]
  },
  {
   "cell_type": "code",
   "execution_count": 5,
   "metadata": {},
   "outputs": [
    {
     "name": "stdout",
     "output_type": "stream",
     "text": [
      "0,2,4,6,8,10\n"
     ]
    }
   ],
   "source": [
    "def even_numbers(n):\n",
    "    result = []\n",
    "    for i in range(0, n + 1, 2):\n",
    "        result.append(i)\n",
    "    return result\n",
    "\n",
    "n = int(input(\"Enter n: \"))\n",
    "print(\",\".join(map(str, even_numbers(n))))"
   ]
  },
  {
   "cell_type": "code",
   "execution_count": 7,
   "metadata": {},
   "outputs": [
    {
     "name": "stdout",
     "output_type": "stream",
     "text": [
      "[0, 12, 24, 36]\n"
     ]
    }
   ],
   "source": [
    "def divisible(n):\n",
    "    result = []\n",
    "    for i in range(n + 1):\n",
    "        if i % 3 == 0 and i % 4 == 0:\n",
    "            result.append(i)\n",
    "    return result\n",
    "\n",
    "n = int(input(\"Enter n: \"))\n",
    "print(divisible(n))"
   ]
  },
  {
   "cell_type": "code",
   "execution_count": 8,
   "metadata": {},
   "outputs": [
    {
     "name": "stdout",
     "output_type": "stream",
     "text": [
      "[16, 25]\n"
     ]
    }
   ],
   "source": [
    "def squares_list(a, b):\n",
    "    result = []\n",
    "    for i in range(a, b + 1):\n",
    "        result.append(i ** 2)\n",
    "    return result\n",
    "\n",
    "a, b = map(int, input(\"Enter a and b: \").split())\n",
    "print(squares_list(a, b))"
   ]
  },
  {
   "cell_type": "code",
   "execution_count": 9,
   "metadata": {},
   "outputs": [
    {
     "name": "stdout",
     "output_type": "stream",
     "text": [
      "[9, 8, 7, 6, 5, 4, 3, 2, 1, 0]\n"
     ]
    }
   ],
   "source": [
    "def countdown_list(n):\n",
    "    result = []\n",
    "    for i in range(n, -1, -1):\n",
    "        result.append(i)\n",
    "    return result\n",
    "\n",
    "n = int(input(\"Enter n: \"))\n",
    "print(countdown_list(n))"
   ]
  }
 ],
 "metadata": {
  "kernelspec": {
   "display_name": "Python 3",
   "language": "python",
   "name": "python3"
  },
  "language_info": {
   "codemirror_mode": {
    "name": "ipython",
    "version": 3
   },
   "file_extension": ".py",
   "mimetype": "text/x-python",
   "name": "python",
   "nbconvert_exporter": "python",
   "pygments_lexer": "ipython3",
   "version": "3.9.6"
  }
 },
 "nbformat": 4,
 "nbformat_minor": 2
}
