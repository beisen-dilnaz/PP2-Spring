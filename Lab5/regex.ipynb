{
 "cells": [
  {
   "cell_type": "code",
   "execution_count": 2,
   "metadata": {},
   "outputs": [
    {
     "name": "stdout",
     "output_type": "stream",
     "text": [
      "True\n"
     ]
    }
   ],
   "source": [
    "import re\n",
    "\n",
    "s = input()\n",
    "print(bool(re.fullmatch(r'ab*', s)))"
   ]
  },
  {
   "cell_type": "code",
   "execution_count": 3,
   "metadata": {},
   "outputs": [
    {
     "name": "stdout",
     "output_type": "stream",
     "text": [
      "False\n"
     ]
    }
   ],
   "source": [
    "import re\n",
    "\n",
    "s = input()\n",
    "print(bool(re.fullmatch(r'ab{2,3}', s)))"
   ]
  },
  {
   "cell_type": "code",
   "execution_count": 7,
   "metadata": {},
   "outputs": [
    {
     "name": "stdout",
     "output_type": "stream",
     "text": [
      "['hello_world', 'test_example', 'abc_def']\n"
     ]
    }
   ],
   "source": [
    "import re\n",
    "\n",
    "s = input()\n",
    "print(re.findall(r'\\b[a-z]+_[a-z]+\\b', s))"
   ]
  },
  {
   "cell_type": "code",
   "execution_count": 8,
   "metadata": {},
   "outputs": [
    {
     "name": "stdout",
     "output_type": "stream",
     "text": [
      "['Dilnaz', 'Apple', 'Kbtu']\n"
     ]
    }
   ],
   "source": [
    "import re\n",
    "\n",
    "s = input()\n",
    "print(re.findall(r'\\b[A-Z][a-z]+\\b', s))"
   ]
  },
  {
   "cell_type": "code",
   "execution_count": 9,
   "metadata": {},
   "outputs": [
    {
     "name": "stdout",
     "output_type": "stream",
     "text": [
      "True\n"
     ]
    }
   ],
   "source": [
    "import re\n",
    "\n",
    "s = input()\n",
    "print(bool(re.fullmatch(r'a.*b', s)))"
   ]
  },
  {
   "cell_type": "code",
   "execution_count": 10,
   "metadata": {},
   "outputs": [
    {
     "name": "stdout",
     "output_type": "stream",
     "text": [
      "This:is:a:test::Done\n"
     ]
    }
   ],
   "source": [
    "import re\n",
    "\n",
    "s = input()\n",
    "print(re.sub(r'[ ,.]', ':', s))"
   ]
  },
  {
   "cell_type": "code",
   "execution_count": 11,
   "metadata": {},
   "outputs": [
    {
     "name": "stdout",
     "output_type": "stream",
     "text": [
      "snakeCaseExample\n"
     ]
    }
   ],
   "source": [
    "import re\n",
    "\n",
    "s = input()\n",
    "print(re.sub(r'_([a-z])', lambda x: x.group(1).upper(), s))"
   ]
  },
  {
   "cell_type": "code",
   "execution_count": 12,
   "metadata": {},
   "outputs": [
    {
     "name": "stdout",
     "output_type": "stream",
     "text": [
      "['', 'Python', 'Reg', 'Ex', 'Example']\n"
     ]
    }
   ],
   "source": [
    "import re\n",
    "\n",
    "s = input()\n",
    "print(re.split(r'(?=[A-Z])', s))"
   ]
  },
  {
   "cell_type": "code",
   "execution_count": 13,
   "metadata": {},
   "outputs": [
    {
     "name": "stdout",
     "output_type": "stream",
     "text": [
      "My Name Is Dilnaz\n"
     ]
    }
   ],
   "source": [
    "import re\n",
    "\n",
    "s = input()\n",
    "print(re.sub(r'([a-z])([A-Z])', r'\\1 \\2', s))"
   ]
  },
  {
   "cell_type": "code",
   "execution_count": 14,
   "metadata": {},
   "outputs": [
    {
     "name": "stdout",
     "output_type": "stream",
     "text": [
      "camel_case_example\n"
     ]
    }
   ],
   "source": [
    "import re\n",
    "\n",
    "s = input()\n",
    "print(re.sub(r'([a-z])([A-Z])', r'\\1_\\2', s).lower())"
   ]
  },
  {
   "cell_type": "code",
   "execution_count": 30,
   "metadata": {},
   "outputs": [
    {
     "name": "stdout",
     "output_type": "stream",
     "text": [
      "JSON file created successfully! Check output.json\n"
     ]
    }
   ],
   "source": [
    "import json\n",
    "import re\n",
    "\n",
    "with open(\"row.txt\", \"r\", encoding=\"utf-8\") as file:\n",
    "    lines = [line.strip() for line in file.readlines() if line.strip()]  \n",
    "\n",
    "data = {\n",
    "    \"branch\": re.search(r\"Филиал\\s+(.+)\", lines[1]).group(1).strip(),\n",
    "    \"bin\": re.search(r\"БИН\\s+(\\d+)\", lines[2]).group(1),\n",
    "    \"nds_series\": re.search(r\"НДС Серия\\s+(\\d+)\", lines[3]).group(1),\n",
    "    \"kassa\": re.search(r\"Касса\\s+([\\d-]+)\", lines[5]).group(1),\n",
    "    \"smena\": re.search(r\"Смена\\s+(\\d+)\", lines[6]).group(1),\n",
    "    \"sequence_number\": re.search(r\"Порядковый номер чека №(\\d+)\", lines[7]).group(1),\n",
    "    \"check_number\": re.search(r\"Чек №(\\d+)\", lines[8]).group(1),\n",
    "    \"kassir\": re.search(r\"Кассир\\s+(.+)\", lines[9]).group(1).strip(),\n",
    "    \"items\": []\n",
    "}\n",
    "\n",
    "i = 11  \n",
    "while i < len(lines):\n",
    "    if re.match(r\"^\\d+\\.$\", lines[i]):  \n",
    "        item_id = lines[i].replace(\".\", \"\").strip()  \n",
    "        name = lines[i + 1].strip()  \n",
    "        price_quantity_match = re.search(r\"([\\d\\s]+,\\d+)\\s*x\\s*([\\d\\s]+,\\d+)\", lines[i + 2])\n",
    "        sum_match = re.search(r\"([\\d\\s]+,\\d+)\\s*$\", lines[i + 3]) if (i + 3) < len(lines) else None\n",
    "\n",
    "        if price_quantity_match and sum_match:\n",
    "            price = price_quantity_match.group(1).replace(\" \", \"\")  \n",
    "            quantity = price_quantity_match.group(2).replace(\" \", \"\")\n",
    "            sum_value = sum_match.group(1).replace(\" \", \"\")\n",
    "\n",
    "            data[\"items\"].append({\n",
    "                \"id\": item_id,\n",
    "                \"name\": name,\n",
    "                \"price\": price,\n",
    "                \"quantity\": quantity,\n",
    "                \"sum\": sum_value\n",
    "            })\n",
    "\n",
    "        i += 4  \n",
    "    else:\n",
    "        i += 1  \n",
    "\n",
    "with open(\"output.json\", \"w\", encoding=\"utf-8\") as json_file:\n",
    "    json.dump(data, json_file, ensure_ascii=False, indent=4)\n",
    "\n",
    "print(\"JSON file created successfully! Check output.json\")\n"
   ]
  }
 ],
 "metadata": {
  "kernelspec": {
   "display_name": "Python 3",
   "language": "python",
   "name": "python3"
  },
  "language_info": {
   "codemirror_mode": {
    "name": "ipython",
    "version": 3
   },
   "file_extension": ".py",
   "mimetype": "text/x-python",
   "name": "python",
   "nbconvert_exporter": "python",
   "pygments_lexer": "ipython3",
   "version": "3.9.6"
  }
 },
 "nbformat": 4,
 "nbformat_minor": 2
}
